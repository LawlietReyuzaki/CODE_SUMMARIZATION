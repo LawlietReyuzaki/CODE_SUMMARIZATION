{
 "cells": [
  {
   "cell_type": "code",
   "execution_count": 1,
   "id": "f7d2e26f",
   "metadata": {},
   "outputs": [],
   "source": [
    "import os\n",
    "\n",
    "def aggregate_js_files(folder_path):\n",
    "    # Create a directory to store the aggregated text file if it doesn't exist\n",
    "    if not os.path.exists('aggregated_text'):\n",
    "        os.makedirs('aggregated_text')\n",
    "    \n",
    "    # Open the aggregated text file\n",
    "    with open(os.path.join('aggregated_text', 'aggregated_code.txt'), 'w') as aggregated_file:\n",
    "        # Iterate over all directories and files in the specified folder\n",
    "        for root, dirs, files in os.walk(folder_path):\n",
    "            for file in files:\n",
    "                # Check if the file is a JavaScript file\n",
    "                if file.endswith(('.js','.ts')):\n",
    "                    # Write the file name as a comment\n",
    "                    aggregated_file.write(f\"\\n\\n// File: {file}\\n\\n\")\n",
    "                    \n",
    "                    # Open the JavaScript file and append its content to the aggregated text file\n",
    "                    with open(os.path.join(root, file), 'r') as js_file:\n",
    "                        js_content = js_file.read()\n",
    "                        aggregated_file.write(js_content)\n",
    "\n",
    "# Example usage\n",
    "folder_path = 'js_folder'\n",
    "aggregate_js_files(folder_path)\n"
   ]
  },
  {
   "cell_type": "code",
   "execution_count": null,
   "id": "00b21514",
   "metadata": {},
   "outputs": [],
   "source": []
  }
 ],
 "metadata": {
  "kernelspec": {
   "display_name": "Python 3 (ipykernel)",
   "language": "python",
   "name": "python3"
  },
  "language_info": {
   "codemirror_mode": {
    "name": "ipython",
    "version": 3
   },
   "file_extension": ".py",
   "mimetype": "text/x-python",
   "name": "python",
   "nbconvert_exporter": "python",
   "pygments_lexer": "ipython3",
   "version": "3.10.12"
  }
 },
 "nbformat": 4,
 "nbformat_minor": 5
}
